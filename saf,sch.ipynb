{
  "nbformat": 4,
  "nbformat_minor": 0,
  "metadata": {
    "colab": {
      "provenance": [],
      "authorship_tag": "ABX9TyPuQjum1OoohnbXRYnYrPc+",
      "include_colab_link": true
    },
    "kernelspec": {
      "name": "python3",
      "display_name": "Python 3"
    },
    "language_info": {
      "name": "python"
    }
  },
  "cells": [
    {
      "cell_type": "markdown",
      "metadata": {
        "id": "view-in-github",
        "colab_type": "text"
      },
      "source": [
        "<a href=\"https://colab.research.google.com/github/Saramohamed188/recommendationsystem/blob/main/saf%2Csch.ipynb\" target=\"_parent\"><img src=\"https://colab.research.google.com/assets/colab-badge.svg\" alt=\"Open In Colab\"/></a>"
      ]
    },
    {
      "cell_type": "code",
      "source": [
        "import pandas as pd\n",
        "from sklearn.cluster import KMeans\n",
        "from sklearn.preprocessing import StandardScaler, LabelEncoder\n",
        "from sklearn.metrics import silhouette_score, davies_bouldin_score, calinski_harabasz_score\n",
        "import matplotlib.pyplot as plt"
      ],
      "metadata": {
        "id": "vQAMBQ5USuLJ"
      },
      "execution_count": 19,
      "outputs": []
    },
    {
      "cell_type": "code",
      "source": [
        "def load_data(trip_data_path, user_data_path):\n",
        "    trip_data = pd.read_csv(trip_data_path)\n",
        "    user_favorites = pd.read_csv(user_data_path)\n",
        "    return trip_data, user_favorites"
      ],
      "metadata": {
        "id": "Zpr0Mm3tSyoS"
      },
      "execution_count": 20,
      "outputs": []
    },
    {
      "cell_type": "code",
      "source": [
        "trip_data_path = '/content/Tripdata.csv'\n",
        "user_data_path = '/content/userdata.csv'\n",
        "trip_data, user_favorites = load_data(trip_data_path, user_data_path)"
      ],
      "metadata": {
        "id": "YLYqIexeS3Er"
      },
      "execution_count": 21,
      "outputs": []
    },
    {
      "cell_type": "code",
      "source": [
        "print(trip_data.columns)\n"
      ],
      "metadata": {
        "colab": {
          "base_uri": "https://localhost:8080/"
        },
        "id": "MLGM8fcVS5KJ",
        "outputId": "3dda0610-7912-4962-a87c-1226e67af07b"
      },
      "execution_count": 22,
      "outputs": [
        {
          "output_type": "stream",
          "name": "stdout",
          "text": [
            "Index(['trip_id', 'Place', 'discription', 'companyname', 'price',\n",
            "       'tourismtype', 'days'],\n",
            "      dtype='object')\n"
          ]
        }
      ]
    },
    {
      "cell_type": "code",
      "source": [
        "trip_data.dropna(inplace=True)\n",
        "user_favorites.dropna(inplace=True)"
      ],
      "metadata": {
        "id": "6b8dr9vzS7W6"
      },
      "execution_count": 23,
      "outputs": []
    },
    {
      "cell_type": "code",
      "source": [
        "trip_data['Place'] = trip_data['Place'].str.replace(' ', '')"
      ],
      "metadata": {
        "id": "Us92TAstS973"
      },
      "execution_count": 24,
      "outputs": []
    },
    {
      "cell_type": "code",
      "source": [
        "features = trip_data[['price', 'days', 'Place']]"
      ],
      "metadata": {
        "id": "CrRUs30SS_4O"
      },
      "execution_count": 25,
      "outputs": []
    },
    {
      "cell_type": "code",
      "source": [
        "encoder = LabelEncoder()\n",
        "features['Place_encoded'] = encoder.fit_transform(features['Place'])"
      ],
      "metadata": {
        "colab": {
          "base_uri": "https://localhost:8080/"
        },
        "id": "8ZiZI68xTDDL",
        "outputId": "959b8e57-fa40-451a-a670-62196e29f9ab"
      },
      "execution_count": 26,
      "outputs": [
        {
          "output_type": "stream",
          "name": "stderr",
          "text": [
            "<ipython-input-26-c118740609ab>:2: SettingWithCopyWarning: \n",
            "A value is trying to be set on a copy of a slice from a DataFrame.\n",
            "Try using .loc[row_indexer,col_indexer] = value instead\n",
            "\n",
            "See the caveats in the documentation: https://pandas.pydata.org/pandas-docs/stable/user_guide/indexing.html#returning-a-view-versus-a-copy\n",
            "  features['Place_encoded'] = encoder.fit_transform(features['Place'])\n"
          ]
        }
      ]
    },
    {
      "cell_type": "code",
      "source": [
        "trip_data['Place_encoded'] = features['Place_encoded']"
      ],
      "metadata": {
        "id": "IKCnvhEp286Y"
      },
      "execution_count": 27,
      "outputs": []
    },
    {
      "cell_type": "code",
      "source": [
        "features.drop(columns=['Place'], inplace=True)\n"
      ],
      "metadata": {
        "colab": {
          "base_uri": "https://localhost:8080/"
        },
        "id": "dC3ZRyRGTFxi",
        "outputId": "70853735-e479-4b44-e532-1477172c4f25"
      },
      "execution_count": 28,
      "outputs": [
        {
          "output_type": "stream",
          "name": "stderr",
          "text": [
            "<ipython-input-28-3df59dc81a1f>:1: SettingWithCopyWarning: \n",
            "A value is trying to be set on a copy of a slice from a DataFrame\n",
            "\n",
            "See the caveats in the documentation: https://pandas.pydata.org/pandas-docs/stable/user_guide/indexing.html#returning-a-view-versus-a-copy\n",
            "  features.drop(columns=['Place'], inplace=True)\n"
          ]
        }
      ]
    },
    {
      "cell_type": "code",
      "source": [
        "scaler = StandardScaler()\n",
        "scaled_features = scaler.fit_transform(features)"
      ],
      "metadata": {
        "id": "CjVro0WsTJG5"
      },
      "execution_count": 29,
      "outputs": []
    },
    {
      "cell_type": "code",
      "source": [
        "def calculate_silhouette_scores(scaled_features, min_clusters=2, max_clusters=11):\n",
        "    silhouette_scores = []\n",
        "    for k in range(min_clusters, max_clusters):\n",
        "        kmeans = KMeans(n_clusters=k, init='k-means++', random_state=42)\n",
        "        cluster_labels = kmeans.fit_predict(scaled_features)\n",
        "        silhouette_avg = silhouette_score(scaled_features, cluster_labels)\n",
        "        silhouette_scores.append(silhouette_avg)\n",
        "    return silhouette_scores"
      ],
      "metadata": {
        "id": "8HDrAbaPTMzq"
      },
      "execution_count": 30,
      "outputs": []
    },
    {
      "cell_type": "code",
      "source": [
        "silhouette_scores = calculate_silhouette_scores(scaled_features)"
      ],
      "metadata": {
        "colab": {
          "base_uri": "https://localhost:8080/"
        },
        "id": "6WKPDGp0TPNp",
        "outputId": "55d3e6be-4b56-4ff7-b04b-88994de717ce"
      },
      "execution_count": 31,
      "outputs": [
        {
          "output_type": "stream",
          "name": "stderr",
          "text": [
            "/usr/local/lib/python3.10/dist-packages/sklearn/cluster/_kmeans.py:870: FutureWarning: The default value of `n_init` will change from 10 to 'auto' in 1.4. Set the value of `n_init` explicitly to suppress the warning\n",
            "  warnings.warn(\n",
            "/usr/local/lib/python3.10/dist-packages/sklearn/cluster/_kmeans.py:870: FutureWarning: The default value of `n_init` will change from 10 to 'auto' in 1.4. Set the value of `n_init` explicitly to suppress the warning\n",
            "  warnings.warn(\n",
            "/usr/local/lib/python3.10/dist-packages/sklearn/cluster/_kmeans.py:870: FutureWarning: The default value of `n_init` will change from 10 to 'auto' in 1.4. Set the value of `n_init` explicitly to suppress the warning\n",
            "  warnings.warn(\n",
            "/usr/local/lib/python3.10/dist-packages/sklearn/cluster/_kmeans.py:870: FutureWarning: The default value of `n_init` will change from 10 to 'auto' in 1.4. Set the value of `n_init` explicitly to suppress the warning\n",
            "  warnings.warn(\n",
            "/usr/local/lib/python3.10/dist-packages/sklearn/cluster/_kmeans.py:870: FutureWarning: The default value of `n_init` will change from 10 to 'auto' in 1.4. Set the value of `n_init` explicitly to suppress the warning\n",
            "  warnings.warn(\n",
            "/usr/local/lib/python3.10/dist-packages/sklearn/cluster/_kmeans.py:870: FutureWarning: The default value of `n_init` will change from 10 to 'auto' in 1.4. Set the value of `n_init` explicitly to suppress the warning\n",
            "  warnings.warn(\n",
            "/usr/local/lib/python3.10/dist-packages/sklearn/cluster/_kmeans.py:870: FutureWarning: The default value of `n_init` will change from 10 to 'auto' in 1.4. Set the value of `n_init` explicitly to suppress the warning\n",
            "  warnings.warn(\n",
            "/usr/local/lib/python3.10/dist-packages/sklearn/cluster/_kmeans.py:870: FutureWarning: The default value of `n_init` will change from 10 to 'auto' in 1.4. Set the value of `n_init` explicitly to suppress the warning\n",
            "  warnings.warn(\n",
            "/usr/local/lib/python3.10/dist-packages/sklearn/cluster/_kmeans.py:870: FutureWarning: The default value of `n_init` will change from 10 to 'auto' in 1.4. Set the value of `n_init` explicitly to suppress the warning\n",
            "  warnings.warn(\n"
          ]
        }
      ]
    },
    {
      "cell_type": "code",
      "source": [
        "plt.plot(range(2, 11), silhouette_scores)\n",
        "plt.title('Silhouette Method')\n",
        "plt.xlabel('Number of clusters')\n",
        "plt.ylabel('Silhouette Score')\n",
        "plt.show()"
      ],
      "metadata": {
        "colab": {
          "base_uri": "https://localhost:8080/",
          "height": 472
        },
        "id": "1U1DqHfrTRyY",
        "outputId": "e4a31e03-9ec6-4a98-a210-6b79f2e88a6c"
      },
      "execution_count": 32,
      "outputs": [
        {
          "output_type": "display_data",
          "data": {
            "text/plain": [
              "<Figure size 640x480 with 1 Axes>"
            ],
            "image/png": "[encoded data removed]"
          },
          "metadata": {}
        }
      ]
    },
    {
      "cell_type": "code",
      "source": [
        "optimal_k = silhouette_scores.index(max(silhouette_scores)) + 2\n",
        "kmeans = KMeans(n_clusters=optimal_k, init='k-means++', random_state=42)\n",
        "cluster_labels = kmeans.fit_predict(scaled_features)\n",
        "trip_data['cluster'] = cluster_labels"
      ],
      "metadata": {
        "colab": {
          "base_uri": "https://localhost:8080/"
        },
        "id": "UTRIo50qTWd5",
        "outputId": "67f4602e-4f95-415f-e298-8ca6a103b624"
      },
      "execution_count": 33,
      "outputs": [
        {
          "output_type": "stream",
          "name": "stderr",
          "text": [
            "/usr/local/lib/python3.10/dist-packages/sklearn/cluster/_kmeans.py:870: FutureWarning: The default value of `n_init` will change from 10 to 'auto' in 1.4. Set the value of `n_init` explicitly to suppress the warning\n",
            "  warnings.warn(\n"
          ]
        }
      ]
    },
    {
      "cell_type": "code",
      "source": [
        "davies_bouldin = davies_bouldin_score(scaled_features, cluster_labels)\n",
        "calinski_harabasz = calinski_harabasz_score(scaled_features, cluster_labels)"
      ],
      "metadata": {
        "id": "R2QymQvlTYgM"
      },
      "execution_count": 34,
      "outputs": []
    },
    {
      "cell_type": "code",
      "source": [
        "print(f'Silhouette Score: {max(silhouette_scores):.4f}')\n",
        "print(f'Davies-Bouldin Index: {davies_bouldin:.4f}')\n",
        "print(f'Calinski-Harabasz Index: {calinski_harabasz:.4f}')"
      ],
      "metadata": {
        "colab": {
          "base_uri": "https://localhost:8080/"
        },
        "id": "eTNhUq0lTaZL",
        "outputId": "a9470bdc-948b-4904-82fe-c679d1d6318a"
      },
      "execution_count": 35,
      "outputs": [
        {
          "output_type": "stream",
          "name": "stdout",
          "text": [
            "Silhouette Score: 0.4594\n",
            "Davies-Bouldin Index: 0.7846\n",
            "Calinski-Harabasz Index: 189.4150\n"
          ]
        }
      ]
    },
    {
      "cell_type": "code",
      "source": [
        "def recommend_trips(user_id, num_recommendations=10):\n",
        "    user_likes = user_favorites[user_favorites['User_id'] == user_id]['trip_id']\n",
        "    user_preferences = trip_data[trip_data['trip_id'].isin(user_likes)][['price', 'days', 'Place_encoded']]\n",
        "    if user_preferences.empty:\n",
        "        return pd.DataFrame()\n",
        "\n",
        "    user_cluster = kmeans.predict(scaler.transform(user_preferences))\n",
        "    similar_trips = trip_data[trip_data['cluster'].isin(user_cluster)]\n",
        "\n",
        "    recommended_trips = similar_trips[~similar_trips['trip_id'].isin(user_likes)]\n",
        "\n",
        "    if len(recommended_trips) > num_recommendations:\n",
        "        recommended_trips = recommended_trips.sample(n=num_recommendations, random_state=42)\n",
        "\n",
        "    return recommended_trips"
      ],
      "metadata": {
        "id": "kYY6UqzuTdVE"
      },
      "execution_count": 42,
      "outputs": []
    },
    {
      "cell_type": "code",
      "execution_count": 44,
      "metadata": {
        "id": "-sZ3gZ-xlh1J",
        "colab": {
          "base_uri": "https://localhost:8080/"
        },
        "outputId": "1d2a1384-28cb-4d00-fd45-3ee119c6ac6f"
      },
      "outputs": [
        {
          "output_type": "stream",
          "name": "stdout",
          "text": [
            "Recommended trips for User 777:\n",
            "                      trip_id  price          Place  days\n",
            "27           8a9b0c1d2e3f4a5b   2000          Cairo     4\n",
            "71   e5c32a8f714d9b6c80fe1a2d   1500          Luxor     1\n",
            "75   1a3b2c4d5e6f7a8d9b0c1e2f   5050          Luxor     8\n",
            "143             2e3f4a5b6c7d8   5350          Luxor     5\n",
            "7            5a4b3c2d1e0f9e8d   4550          Cairo     6\n",
            "62          a5f4e3d2c1b0a9f8e   9000         RedSea     7\n",
            "98          3c2b1a0f9e8d7c6b5   1100          Cairo     1\n",
            "172             3e4f5a6b7c8d9   4900         RedSea     7\n",
            "46           5a6b7c8d9e0f1a2b    700  SharmElSheikh     1\n",
            "87           d3c2b1a0f9e8d7c6   2950          Cairo     3\n"
          ]
        }
      ],
      "source": [
        "User_id = 777\n",
        "recommended_trips_for_user_777 = recommend_trips(User_id)\n",
        "print(\"Recommended trips for User 777:\")\n",
        "print(recommended_trips_for_user_777[['trip_id','price','Place','days']])\n"
      ]
    }
  ]
}